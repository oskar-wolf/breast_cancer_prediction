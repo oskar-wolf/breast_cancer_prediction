{
 "cells": [
  {
   "cell_type": "code",
   "execution_count": 2,
   "id": "1fb39b3c",
   "metadata": {},
   "outputs": [],
   "source": [
    "import pickle\n",
    "\n",
    "import os\n",
    "import sys\n",
    "\n",
    "sys.path.append(os.path.abspath(os.path.join(os.path.dirname(os.getcwd()), \"\")))\n",
    "from src.models.evaluate import load_models, evaluate_model"
   ]
  },
  {
   "cell_type": "code",
   "execution_count": 3,
   "id": "bbcabea0",
   "metadata": {},
   "outputs": [],
   "source": [
    "with open(\"../data/processed/split_data_full.pkl\", \"rb\") as f:\n",
    "    X_train_full, X_test_full, y_train_full, y_test_full = pickle.load(f)\n",
    "\n",
    "# Load selected feature splits\n",
    "with open(\"../data/processed/split_data_selected.pkl\", \"rb\") as f:\n",
    "    X_train_sel, X_test_sel, y_train_sel, y_test_sel = pickle.load(f)"
   ]
  },
  {
   "cell_type": "code",
   "execution_count": 4,
   "id": "136e68ea",
   "metadata": {},
   "outputs": [],
   "source": [
    "import joblib\n",
    "\n",
    "models_full = {\n",
    "    \"Logistic Regression\": joblib.load(\"../models/logistic_regression_(full).pkl\"),\n",
    "    \"Decision Tree\": joblib.load(\"../models/decision_tree_(full).pkl\"),\n",
    "    \"Random Forest\": joblib.load(\"../models/random_forest_(full).pkl\"),\n",
    "    \"EBM\": joblib.load(\"../models/ebm_(full).pkl\"),\n",
    "    \"XGBoost\": joblib.load(\"../models/xgboost_(full).pkl\"),\n",
    "}\n"
   ]
  },
  {
   "cell_type": "code",
   "execution_count": 5,
   "id": "764c7845",
   "metadata": {},
   "outputs": [],
   "source": [
    "models_selected = {\n",
    "    \"Logistic Regression\": joblib.load(\"../models/logistic_regression.pkl\"),\n",
    "    \"Decision Tree\": joblib.load(\"../models/decision_tree.pkl\"),\n",
    "    \"Random Forest\": joblib.load(\"../models/random_forest.pkl\"),\n",
    "    \"EBM\": joblib.load(\"../models/ebm.pkl\"),\n",
    "    \"XGBoost\": joblib.load(\"../models/xgboost.pkl\"),\n",
    "}"
   ]
  },
  {
   "cell_type": "code",
   "execution_count": 7,
   "id": "637091b0",
   "metadata": {},
   "outputs": [
    {
     "name": "stdout",
     "output_type": "stream",
     "text": [
      "--- Logistic Regression (Selected) ---\n",
      "{'Accuracy': 0.9824561403508771, 'Precision': 1.0, 'Recall': 0.9523809523809523, 'F1 Score': 0.975609756097561, 'AUC': 0.9957010582010581}\n",
      "--- Decision Tree (Selected) ---\n",
      "{'Accuracy': 0.9473684210526315, 'Precision': 0.95, 'Recall': 0.9047619047619048, 'F1 Score': 0.9268292682926829, 'AUC': 0.9384920634920634}\n",
      "--- Random Forest (Selected) ---\n",
      "{'Accuracy': 0.9736842105263158, 'Precision': 1.0, 'Recall': 0.9285714285714286, 'F1 Score': 0.962962962962963, 'AUC': 0.9948743386243386}\n",
      "--- EBM (Selected) ---\n",
      "{'Accuracy': 0.9824561403508771, 'Precision': 1.0, 'Recall': 0.9523809523809523, 'F1 Score': 0.975609756097561, 'AUC': 0.9947089947089947}\n",
      "--- XGBoost (Selected) ---\n",
      "{'Accuracy': 0.9736842105263158, 'Precision': 1.0, 'Recall': 0.9285714285714286, 'F1 Score': 0.962962962962963, 'AUC': 0.9933862433862434}\n"
     ]
    }
   ],
   "source": [
    "# Evaluate all models on selected features\n",
    "for name, model in models_selected.items():\n",
    "    print(f\"--- {name} (Selected) ---\")\n",
    "    metrics, cm, roc = evaluate_model(model, X_test_sel, y_test_sel)\n",
    "    print(metrics)\n"
   ]
  },
  {
   "cell_type": "code",
   "execution_count": 8,
   "id": "1780032c",
   "metadata": {},
   "outputs": [
    {
     "name": "stdout",
     "output_type": "stream",
     "text": [
      "--- Logistic Regression (Full) ---\n",
      "{'Accuracy': 0.9736842105263158, 'Precision': 0.975609756097561, 'Recall': 0.9523809523809523, 'F1 Score': 0.963855421686747, 'AUC': 0.996031746031746}\n",
      "--- Decision Tree (Full) ---\n",
      "{'Accuracy': 0.9122807017543859, 'Precision': 0.8636363636363636, 'Recall': 0.9047619047619048, 'F1 Score': 0.8837209302325582, 'AUC': 0.9107142857142856}\n",
      "--- Random Forest (Full) ---\n",
      "{'Accuracy': 0.956140350877193, 'Precision': 1.0, 'Recall': 0.8809523809523809, 'F1 Score': 0.9367088607594937, 'AUC': 0.9945436507936508}\n",
      "--- EBM (Full) ---\n",
      "{'Accuracy': 0.9736842105263158, 'Precision': 1.0, 'Recall': 0.9285714285714286, 'F1 Score': 0.962962962962963, 'AUC': 0.9966931216931216}\n",
      "--- XGBoost (Full) ---\n",
      "{'Accuracy': 0.956140350877193, 'Precision': 1.0, 'Recall': 0.8809523809523809, 'F1 Score': 0.9367088607594937, 'AUC': 0.9933862433862434}\n"
     ]
    }
   ],
   "source": [
    "# Evaluate all models on full features\n",
    "for name, model in models_full.items():\n",
    "    print(f\"--- {name} (Full) ---\")\n",
    "    metrics, cm, roc = evaluate_model(model, X_test_full, y_test_full)\n",
    "    print(metrics)"
   ]
  },
  {
   "cell_type": "code",
   "execution_count": null,
   "id": "5a15cd7e",
   "metadata": {},
   "outputs": [],
   "source": []
  }
 ],
 "metadata": {
  "kernelspec": {
   "display_name": "bc38",
   "language": "python",
   "name": "python3"
  },
  "language_info": {
   "codemirror_mode": {
    "name": "ipython",
    "version": 3
   },
   "file_extension": ".py",
   "mimetype": "text/x-python",
   "name": "python",
   "nbconvert_exporter": "python",
   "pygments_lexer": "ipython3",
   "version": "3.8.20"
  }
 },
 "nbformat": 4,
 "nbformat_minor": 5
}
