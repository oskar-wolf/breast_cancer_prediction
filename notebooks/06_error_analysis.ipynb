{
 "cells": [
  {
   "cell_type": "code",
   "execution_count": 1,
   "id": "9f824c99",
   "metadata": {},
   "outputs": [],
   "source": [
    "import pickle\n",
    "import numpy as np\n",
    "import pandas as pd\n",
    "from sklearn.linear_model import LogisticRegression\n",
    "from xgboost import XGBClassifier\n",
    "from sklearn.metrics import classification_report, confusion_matrix\n",
    "\n",
    "import os\n",
    "import sys\n",
    "\n",
    "sys.path.append(os.path.abspath(os.path.join(os.path.dirname(os.getcwd()), \"\")))\n",
    "from src.models.error_analysis import get_misclassified_indices, inspect_misclassified_samples"
   ]
  },
  {
   "cell_type": "code",
   "execution_count": 2,
   "id": "89e6caa5",
   "metadata": {},
   "outputs": [],
   "source": [
    "# Load full dataset splits (already saved)\n",
    "with open(\"../data/processed/split_data_selected.pkl\", \"rb\") as f:\n",
    "    X_train, X_test, y_train, y_test = pickle.load(f)\n",
    "\n",
    "# Load trained models (adjust paths if needed)\n",
    "with open(\"../models/logistic_regression.pkl\", \"rb\") as f:\n",
    "    logreg_model = pickle.load(f)\n",
    "\n",
    "with open(\"../models/xgboost.pkl\", \"rb\") as f:\n",
    "    xgb_model = pickle.load(f)\n"
   ]
  },
  {
   "cell_type": "code",
   "execution_count": 3,
   "id": "034647e4",
   "metadata": {},
   "outputs": [],
   "source": [
    "# Predict with both models\n",
    "y_pred_logreg = logreg_model.predict(X_test)\n",
    "y_pred_xgb = xgb_model.predict(X_test)\n"
   ]
  },
  {
   "cell_type": "code",
   "execution_count": 4,
   "id": "b0addb04",
   "metadata": {},
   "outputs": [
    {
     "name": "stdout",
     "output_type": "stream",
     "text": [
      "--- Logistic Regression ---\n",
      "              precision    recall  f1-score   support\n",
      "\n",
      "           0       0.97      1.00      0.99        72\n",
      "           1       1.00      0.95      0.98        42\n",
      "\n",
      "    accuracy                           0.98       114\n",
      "   macro avg       0.99      0.98      0.98       114\n",
      "weighted avg       0.98      0.98      0.98       114\n",
      "\n"
     ]
    }
   ],
   "source": [
    "print(\"--- Logistic Regression ---\")\n",
    "print(classification_report(y_test, y_pred_logreg))\n"
   ]
  },
  {
   "cell_type": "code",
   "execution_count": 5,
   "id": "5cfe4c20",
   "metadata": {},
   "outputs": [
    {
     "name": "stdout",
     "output_type": "stream",
     "text": [
      "\n",
      "--- XGBoost ---\n",
      "              precision    recall  f1-score   support\n",
      "\n",
      "           0       0.96      1.00      0.98        72\n",
      "           1       1.00      0.93      0.96        42\n",
      "\n",
      "    accuracy                           0.97       114\n",
      "   macro avg       0.98      0.96      0.97       114\n",
      "weighted avg       0.97      0.97      0.97       114\n",
      "\n"
     ]
    }
   ],
   "source": [
    "print(\"\\n--- XGBoost ---\")\n",
    "print(classification_report(y_test, y_pred_xgb))"
   ]
  },
  {
   "cell_type": "code",
   "execution_count": 6,
   "id": "b823e806",
   "metadata": {},
   "outputs": [],
   "source": [
    "# Get misclassified indices\n",
    "fp_logreg, fn_logreg = get_misclassified_indices(y_test, y_pred_logreg)\n",
    "fp_xgb, fn_xgb = get_misclassified_indices(y_test, y_pred_xgb)\n"
   ]
  },
  {
   "cell_type": "code",
   "execution_count": 7,
   "id": "1c104f86",
   "metadata": {},
   "outputs": [
    {
     "name": "stdout",
     "output_type": "stream",
     "text": [
      "\n",
      "🧪 Logistic Regression Error Analysis\n",
      "\n",
      "🔴 False Positives (Predicted Malignant, Actually Benign):\n"
     ]
    },
    {
     "data": {
      "text/html": [
       "<div>\n",
       "<style scoped>\n",
       "    .dataframe tbody tr th:only-of-type {\n",
       "        vertical-align: middle;\n",
       "    }\n",
       "\n",
       "    .dataframe tbody tr th {\n",
       "        vertical-align: top;\n",
       "    }\n",
       "\n",
       "    .dataframe thead th {\n",
       "        text-align: right;\n",
       "    }\n",
       "</style>\n",
       "<table border=\"1\" class=\"dataframe\">\n",
       "  <thead>\n",
       "    <tr style=\"text-align: right;\">\n",
       "      <th></th>\n",
       "      <th>area_worst</th>\n",
       "      <th>concave points_worst</th>\n",
       "      <th>texture_worst</th>\n",
       "      <th>concavity_worst</th>\n",
       "      <th>compactness_se</th>\n",
       "      <th>symmetry_worst</th>\n",
       "      <th>fractal_dimension_se</th>\n",
       "      <th>radius_se</th>\n",
       "      <th>smoothness_se</th>\n",
       "      <th>perimeter_se</th>\n",
       "      <th>True Label</th>\n",
       "      <th>Predicted</th>\n",
       "    </tr>\n",
       "  </thead>\n",
       "  <tbody>\n",
       "  </tbody>\n",
       "</table>\n",
       "</div>"
      ],
      "text/plain": [
       "Empty DataFrame\n",
       "Columns: [area_worst, concave points_worst, texture_worst, concavity_worst, compactness_se, symmetry_worst, fractal_dimension_se, radius_se, smoothness_se, perimeter_se, True Label, Predicted]\n",
       "Index: []"
      ]
     },
     "metadata": {},
     "output_type": "display_data"
    },
    {
     "name": "stdout",
     "output_type": "stream",
     "text": [
      "\n",
      "🔵 False Negatives (Predicted Benign, Actually Malignant):\n"
     ]
    },
    {
     "data": {
      "text/html": [
       "<div>\n",
       "<style scoped>\n",
       "    .dataframe tbody tr th:only-of-type {\n",
       "        vertical-align: middle;\n",
       "    }\n",
       "\n",
       "    .dataframe tbody tr th {\n",
       "        vertical-align: top;\n",
       "    }\n",
       "\n",
       "    .dataframe thead th {\n",
       "        text-align: right;\n",
       "    }\n",
       "</style>\n",
       "<table border=\"1\" class=\"dataframe\">\n",
       "  <thead>\n",
       "    <tr style=\"text-align: right;\">\n",
       "      <th></th>\n",
       "      <th>area_worst</th>\n",
       "      <th>concave points_worst</th>\n",
       "      <th>texture_worst</th>\n",
       "      <th>concavity_worst</th>\n",
       "      <th>compactness_se</th>\n",
       "      <th>symmetry_worst</th>\n",
       "      <th>fractal_dimension_se</th>\n",
       "      <th>radius_se</th>\n",
       "      <th>smoothness_se</th>\n",
       "      <th>perimeter_se</th>\n",
       "      <th>True Label</th>\n",
       "      <th>Predicted</th>\n",
       "    </tr>\n",
       "  </thead>\n",
       "  <tbody>\n",
       "    <tr>\n",
       "      <th>73</th>\n",
       "      <td>-0.119860</td>\n",
       "      <td>0.360776</td>\n",
       "      <td>-0.784455</td>\n",
       "      <td>0.027401</td>\n",
       "      <td>-0.269842</td>\n",
       "      <td>-0.504352</td>\n",
       "      <td>-0.251501</td>\n",
       "      <td>-0.456464</td>\n",
       "      <td>-0.774691</td>\n",
       "      <td>-0.450012</td>\n",
       "      <td>1</td>\n",
       "      <td>0</td>\n",
       "    </tr>\n",
       "    <tr>\n",
       "      <th>205</th>\n",
       "      <td>0.191466</td>\n",
       "      <td>0.161307</td>\n",
       "      <td>-0.885418</td>\n",
       "      <td>0.290305</td>\n",
       "      <td>-0.351441</td>\n",
       "      <td>0.831934</td>\n",
       "      <td>-0.345685</td>\n",
       "      <td>-0.483894</td>\n",
       "      <td>-0.523014</td>\n",
       "      <td>-0.441597</td>\n",
       "      <td>1</td>\n",
       "      <td>0</td>\n",
       "    </tr>\n",
       "  </tbody>\n",
       "</table>\n",
       "</div>"
      ],
      "text/plain": [
       "     area_worst  concave points_worst  texture_worst  concavity_worst  \\\n",
       "73    -0.119860              0.360776      -0.784455         0.027401   \n",
       "205    0.191466              0.161307      -0.885418         0.290305   \n",
       "\n",
       "     compactness_se  symmetry_worst  fractal_dimension_se  radius_se  \\\n",
       "73        -0.269842       -0.504352             -0.251501  -0.456464   \n",
       "205       -0.351441        0.831934             -0.345685  -0.483894   \n",
       "\n",
       "     smoothness_se  perimeter_se  True Label  Predicted  \n",
       "73       -0.774691     -0.450012           1          0  \n",
       "205      -0.523014     -0.441597           1          0  "
      ]
     },
     "metadata": {},
     "output_type": "display_data"
    }
   ],
   "source": [
    "# Inspect misclassified samples\n",
    "print(\"\\n🧪 Logistic Regression Error Analysis\")\n",
    "inspect_misclassified_samples(X_test, y_test, y_pred_logreg, fp_logreg, fn_logreg)"
   ]
  },
  {
   "cell_type": "code",
   "execution_count": 8,
   "id": "3d48328a",
   "metadata": {},
   "outputs": [
    {
     "name": "stdout",
     "output_type": "stream",
     "text": [
      "\n",
      "🧪 XGBoost Error Analysis\n",
      "\n",
      "🔴 False Positives (Predicted Malignant, Actually Benign):\n"
     ]
    },
    {
     "data": {
      "text/html": [
       "<div>\n",
       "<style scoped>\n",
       "    .dataframe tbody tr th:only-of-type {\n",
       "        vertical-align: middle;\n",
       "    }\n",
       "\n",
       "    .dataframe tbody tr th {\n",
       "        vertical-align: top;\n",
       "    }\n",
       "\n",
       "    .dataframe thead th {\n",
       "        text-align: right;\n",
       "    }\n",
       "</style>\n",
       "<table border=\"1\" class=\"dataframe\">\n",
       "  <thead>\n",
       "    <tr style=\"text-align: right;\">\n",
       "      <th></th>\n",
       "      <th>area_worst</th>\n",
       "      <th>concave points_worst</th>\n",
       "      <th>texture_worst</th>\n",
       "      <th>concavity_worst</th>\n",
       "      <th>compactness_se</th>\n",
       "      <th>symmetry_worst</th>\n",
       "      <th>fractal_dimension_se</th>\n",
       "      <th>radius_se</th>\n",
       "      <th>smoothness_se</th>\n",
       "      <th>perimeter_se</th>\n",
       "      <th>True Label</th>\n",
       "      <th>Predicted</th>\n",
       "    </tr>\n",
       "  </thead>\n",
       "  <tbody>\n",
       "  </tbody>\n",
       "</table>\n",
       "</div>"
      ],
      "text/plain": [
       "Empty DataFrame\n",
       "Columns: [area_worst, concave points_worst, texture_worst, concavity_worst, compactness_se, symmetry_worst, fractal_dimension_se, radius_se, smoothness_se, perimeter_se, True Label, Predicted]\n",
       "Index: []"
      ]
     },
     "metadata": {},
     "output_type": "display_data"
    },
    {
     "name": "stdout",
     "output_type": "stream",
     "text": [
      "\n",
      "🔵 False Negatives (Predicted Benign, Actually Malignant):\n"
     ]
    },
    {
     "data": {
      "text/html": [
       "<div>\n",
       "<style scoped>\n",
       "    .dataframe tbody tr th:only-of-type {\n",
       "        vertical-align: middle;\n",
       "    }\n",
       "\n",
       "    .dataframe tbody tr th {\n",
       "        vertical-align: top;\n",
       "    }\n",
       "\n",
       "    .dataframe thead th {\n",
       "        text-align: right;\n",
       "    }\n",
       "</style>\n",
       "<table border=\"1\" class=\"dataframe\">\n",
       "  <thead>\n",
       "    <tr style=\"text-align: right;\">\n",
       "      <th></th>\n",
       "      <th>area_worst</th>\n",
       "      <th>concave points_worst</th>\n",
       "      <th>texture_worst</th>\n",
       "      <th>concavity_worst</th>\n",
       "      <th>compactness_se</th>\n",
       "      <th>symmetry_worst</th>\n",
       "      <th>fractal_dimension_se</th>\n",
       "      <th>radius_se</th>\n",
       "      <th>smoothness_se</th>\n",
       "      <th>perimeter_se</th>\n",
       "      <th>True Label</th>\n",
       "      <th>Predicted</th>\n",
       "    </tr>\n",
       "  </thead>\n",
       "  <tbody>\n",
       "    <tr>\n",
       "      <th>73</th>\n",
       "      <td>-0.119860</td>\n",
       "      <td>0.360776</td>\n",
       "      <td>-0.784455</td>\n",
       "      <td>0.027401</td>\n",
       "      <td>-0.269842</td>\n",
       "      <td>-0.504352</td>\n",
       "      <td>-0.251501</td>\n",
       "      <td>-0.456464</td>\n",
       "      <td>-0.774691</td>\n",
       "      <td>-0.450012</td>\n",
       "      <td>1</td>\n",
       "      <td>0</td>\n",
       "    </tr>\n",
       "    <tr>\n",
       "      <th>5</th>\n",
       "      <td>-0.244320</td>\n",
       "      <td>0.905888</td>\n",
       "      <td>-0.313836</td>\n",
       "      <td>1.263243</td>\n",
       "      <td>0.445544</td>\n",
       "      <td>1.754069</td>\n",
       "      <td>0.486846</td>\n",
       "      <td>-0.255070</td>\n",
       "      <td>0.156347</td>\n",
       "      <td>-0.321304</td>\n",
       "      <td>1</td>\n",
       "      <td>0</td>\n",
       "    </tr>\n",
       "    <tr>\n",
       "      <th>205</th>\n",
       "      <td>0.191466</td>\n",
       "      <td>0.161307</td>\n",
       "      <td>-0.885418</td>\n",
       "      <td>0.290305</td>\n",
       "      <td>-0.351441</td>\n",
       "      <td>0.831934</td>\n",
       "      <td>-0.345685</td>\n",
       "      <td>-0.483894</td>\n",
       "      <td>-0.523014</td>\n",
       "      <td>-0.441597</td>\n",
       "      <td>1</td>\n",
       "      <td>0</td>\n",
       "    </tr>\n",
       "  </tbody>\n",
       "</table>\n",
       "</div>"
      ],
      "text/plain": [
       "     area_worst  concave points_worst  texture_worst  concavity_worst  \\\n",
       "73    -0.119860              0.360776      -0.784455         0.027401   \n",
       "5     -0.244320              0.905888      -0.313836         1.263243   \n",
       "205    0.191466              0.161307      -0.885418         0.290305   \n",
       "\n",
       "     compactness_se  symmetry_worst  fractal_dimension_se  radius_se  \\\n",
       "73        -0.269842       -0.504352             -0.251501  -0.456464   \n",
       "5          0.445544        1.754069              0.486846  -0.255070   \n",
       "205       -0.351441        0.831934             -0.345685  -0.483894   \n",
       "\n",
       "     smoothness_se  perimeter_se  True Label  Predicted  \n",
       "73       -0.774691     -0.450012           1          0  \n",
       "5         0.156347     -0.321304           1          0  \n",
       "205      -0.523014     -0.441597           1          0  "
      ]
     },
     "metadata": {},
     "output_type": "display_data"
    }
   ],
   "source": [
    "print(\"\\n🧪 XGBoost Error Analysis\")\n",
    "inspect_misclassified_samples(X_test, y_test, y_pred_xgb, fp_xgb, fn_xgb)"
   ]
  },
  {
   "cell_type": "code",
   "execution_count": null,
   "id": "c1ec5480",
   "metadata": {},
   "outputs": [],
   "source": []
  }
 ],
 "metadata": {
  "kernelspec": {
   "display_name": "bc38",
   "language": "python",
   "name": "python3"
  },
  "language_info": {
   "codemirror_mode": {
    "name": "ipython",
    "version": 3
   },
   "file_extension": ".py",
   "mimetype": "text/x-python",
   "name": "python",
   "nbconvert_exporter": "python",
   "pygments_lexer": "ipython3",
   "version": "3.8.20"
  }
 },
 "nbformat": 4,
 "nbformat_minor": 5
}
